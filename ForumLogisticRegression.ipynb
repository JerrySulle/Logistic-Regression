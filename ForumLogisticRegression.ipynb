{
 "cells": [
  {
   "cell_type": "code",
   "execution_count": 1,
   "id": "e7d08599",
   "metadata": {},
   "outputs": [],
   "source": [
    "import matplotlib.pyplot as plt\n",
    "import seaborn as sns\n",
    "import numpy as np\n",
    "import pandas as pd\n",
    "from sklearn.metrics import log_loss"
   ]
  },
  {
   "cell_type": "markdown",
   "id": "d10d13dd",
   "metadata": {},
   "source": [
    "# DATA"
   ]
  },
  {
   "cell_type": "code",
   "execution_count": 2,
   "id": "1ef9b899",
   "metadata": {},
   "outputs": [],
   "source": [
    "X_train = np.array([[0.08, 0.72], [0.26, 0.58], [0.45, 0.15], [0.60, 0.30], [0.10, 1.0], [0.35, 0.95], [0.70, 0.65], [0.92, 0.45]])\n",
    "y_train = np.array([1, 1, 1, 1, 0, 0, 0, 0])\n",
    "X_test = np.array([[0.10, 0.9], [0.4, 0.2], [0.8, 0.5], [0.2, 0.6]])"
   ]
  },
  {
   "cell_type": "code",
   "execution_count": 3,
   "id": "83a6adf0",
   "metadata": {},
   "outputs": [
    {
     "name": "stdout",
     "output_type": "stream",
     "text": [
      "X_train DATA\n",
      "      0     1\n",
      "0  0.08  0.72\n",
      "1  0.26  0.58\n",
      "2  0.45  0.15\n",
      "3  0.60  0.30\n",
      "4  0.10  1.00\n",
      "5  0.35  0.95\n",
      "6  0.70  0.65\n",
      "7  0.92  0.45\n",
      "\n",
      "\n",
      "\n",
      "y_train DATA\n",
      "   0\n",
      "0  1\n",
      "1  1\n",
      "2  1\n",
      "3  1\n",
      "4  0\n",
      "5  0\n",
      "6  0\n",
      "7  0\n"
     ]
    }
   ],
   "source": [
    "df = pd.concat([pd.DataFrame(X_train,columns=['x1','x2']),pd.DataFrame(y_train,columns=['y'])], axis=1, join='inner')\n",
    "\n",
    "print('X_train DATA')\n",
    "print(pd.DataFrame(X_train))\n",
    "\n",
    "print('\\n\\n')\n",
    "\n",
    "print('y_train DATA')\n",
    "print(pd.DataFrame(y_train))"
   ]
  },
  {
   "cell_type": "code",
   "execution_count": 4,
   "id": "e9873916",
   "metadata": {},
   "outputs": [
    {
     "data": {
      "text/html": [
       "<div>\n",
       "<style scoped>\n",
       "    .dataframe tbody tr th:only-of-type {\n",
       "        vertical-align: middle;\n",
       "    }\n",
       "\n",
       "    .dataframe tbody tr th {\n",
       "        vertical-align: top;\n",
       "    }\n",
       "\n",
       "    .dataframe thead th {\n",
       "        text-align: right;\n",
       "    }\n",
       "</style>\n",
       "<table border=\"1\" class=\"dataframe\">\n",
       "  <thead>\n",
       "    <tr style=\"text-align: right;\">\n",
       "      <th></th>\n",
       "      <th>x1</th>\n",
       "      <th>x2</th>\n",
       "      <th>y</th>\n",
       "    </tr>\n",
       "  </thead>\n",
       "  <tbody>\n",
       "    <tr>\n",
       "      <th>0</th>\n",
       "      <td>0.08</td>\n",
       "      <td>0.72</td>\n",
       "      <td>1</td>\n",
       "    </tr>\n",
       "    <tr>\n",
       "      <th>1</th>\n",
       "      <td>0.26</td>\n",
       "      <td>0.58</td>\n",
       "      <td>1</td>\n",
       "    </tr>\n",
       "    <tr>\n",
       "      <th>2</th>\n",
       "      <td>0.45</td>\n",
       "      <td>0.15</td>\n",
       "      <td>1</td>\n",
       "    </tr>\n",
       "    <tr>\n",
       "      <th>3</th>\n",
       "      <td>0.60</td>\n",
       "      <td>0.30</td>\n",
       "      <td>1</td>\n",
       "    </tr>\n",
       "    <tr>\n",
       "      <th>4</th>\n",
       "      <td>0.10</td>\n",
       "      <td>1.00</td>\n",
       "      <td>0</td>\n",
       "    </tr>\n",
       "  </tbody>\n",
       "</table>\n",
       "</div>"
      ],
      "text/plain": [
       "     x1    x2  y\n",
       "0  0.08  0.72  1\n",
       "1  0.26  0.58  1\n",
       "2  0.45  0.15  1\n",
       "3  0.60  0.30  1\n",
       "4  0.10  1.00  0"
      ]
     },
     "execution_count": 4,
     "metadata": {},
     "output_type": "execute_result"
    }
   ],
   "source": [
    "df.head()"
   ]
  },
  {
   "cell_type": "markdown",
   "id": "81f01f57",
   "metadata": {},
   "source": [
    "# DATA VISUALIZATION"
   ]
  },
  {
   "cell_type": "code",
   "execution_count": 5,
   "id": "df2d9307",
   "metadata": {},
   "outputs": [
    {
     "data": {
      "text/plain": [
       "<AxesSubplot:>"
      ]
     },
     "execution_count": 5,
     "metadata": {},
     "output_type": "execute_result"
    },
    {
     "data": {
      "image/png": "[encoded data removed]",
      "text/plain": [
       "<Figure size 432x288 with 2 Axes>"
      ]
     },
     "metadata": {
      "needs_background": "light"
     },
     "output_type": "display_data"
    }
   ],
   "source": [
    "sns.heatmap(df.corr(),annot=True)"
   ]
  },
  {
   "cell_type": "code",
   "execution_count": 6,
   "id": "e0a4b90c",
   "metadata": {},
   "outputs": [
    {
     "data": {
      "text/plain": [
       "<AxesSubplot:xlabel='x1', ylabel='x2'>"
      ]
     },
     "execution_count": 6,
     "metadata": {},
     "output_type": "execute_result"
    },
    {
     "data": {
      "image/png": "[encoded data removed]",
      "text/plain": [
       "<Figure size 432x288 with 1 Axes>"
      ]
     },
     "metadata": {
      "needs_background": "light"
     },
     "output_type": "display_data"
    }
   ],
   "source": [
    "sns.scatterplot(x='x1',y='x2',data=df,hue='y')"
   ]
  },
  {
   "cell_type": "markdown",
   "id": "a472a67a",
   "metadata": {},
   "source": [
    "# LOGISTIC REGRESSION CLASS"
   ]
  },
  {
   "cell_type": "code",
   "execution_count": 7,
   "id": "937a3fb3",
   "metadata": {},
   "outputs": [],
   "source": [
    "class LogisticRegression:\n",
    "\n",
    "    def __init__(self, lr=0.001, n_iters=1000):\n",
    "        self.lr = lr\n",
    "        self.n_iters = n_iters\n",
    "        self.weights = None\n",
    "        self.bias = None\n",
    "\n",
    "    def fit(self, X, y):\n",
    "        n_samples, n_features = X.shape\n",
    "\n",
    "        # init parameters\n",
    "        self.weights = np.zeros(n_features)\n",
    "        self.bias = 0\n",
    "\n",
    "        loss = []\n",
    "        # gradient descent\n",
    "        for _ in range(self.n_iters):\n",
    "            y_predicted = np.dot(X, self.weights) + self.bias\n",
    "            # compute gradients\n",
    "            dw = (1 / n_samples) * np.dot(X.T, (y_predicted - y))\n",
    "            db = (1 / n_samples) * np.sum(y_predicted - y)\n",
    "            \n",
    "            # update parameters\n",
    "            self.weights -= self.lr * dw\n",
    "            self.bias -= self.lr * db\n",
    "            \n",
    "            loss.append(log_loss(y,y_predicted))\n",
    "                        \n",
    "        return self.weights,self.bias,loss\n",
    "            \n",
    "    def predict(self, X):\n",
    "        linearmod = np.dot(X, self.weights) + self.bias\n",
    "        y_predicted = self._sigmoid(linearmod)\n",
    "        y_predicted_class = [1 if i > 0.6 else 0 for i in y_predicted]\n",
    "        return y_predicted_class\n",
    "\n",
    "    def _sigmoid(self, X):\n",
    "        return 1 / (1 + np.exp(-X))"
   ]
  },
  {
   "cell_type": "markdown",
   "id": "f6d1486b",
   "metadata": {},
   "source": [
    "# COMPARE LEARNING RATE"
   ]
  },
  {
   "cell_type": "code",
   "execution_count": 8,
   "id": "4c5e1d0d",
   "metadata": {},
   "outputs": [],
   "source": [
    "X_train = (X_train - X_train.mean()) / X_train.std()\n",
    "losses = []\n",
    "weights = []\n",
    "biases = []\n",
    "EPOCHS = 1000\n",
    "for i in [0.1,0.01,0.001,0.0001]:\n",
    "    LR = LogisticRegression(lr=i, n_iters=EPOCHS)\n",
    "    weight,bias,loss = LR.fit(X_train,y_train)\n",
    "    weights.append(weight)\n",
    "    biases.append(bias)\n",
    "    losses.append(loss)"
   ]
  },
  {
   "cell_type": "markdown",
   "id": "ecbc0510",
   "metadata": {},
   "source": [
    "# GRADIENT DESCENT "
   ]
  },
  {
   "cell_type": "code",
   "execution_count": 9,
   "id": "c58cddeb",
   "metadata": {},
   "outputs": [
    {
     "data": {
      "image/png": "[encoded data removed]",
      "text/plain": [
       "<Figure size 432x288 with 1 Axes>"
      ]
     },
     "metadata": {
      "needs_background": "light"
     },
     "output_type": "display_data"
    }
   ],
   "source": [
    "for j in losses:\n",
    "    compare = sns.lineplot(x=np.arange(0, EPOCHS),y=j)\n",
    "    plt.ylim((0, 2))\n",
    "    plt.legend(labels=['0.1', '0.01','0.001','0.0001'])"
   ]
  },
  {
   "cell_type": "code",
   "execution_count": 10,
   "id": "34f3bdd8",
   "metadata": {},
   "outputs": [
    {
     "name": "stdout",
     "output_type": "stream",
     "text": [
      "BEST LEARNING RATE IS 0.1\n",
      "Bias = 0.5270145400025296\n",
      "Weights = [-0.44064994 -0.53385767]\n"
     ]
    }
   ],
   "source": [
    "print('BEST LEARNING RATE IS 0.1')\n",
    "print('Bias =' ,biases[0])\n",
    "print('Weights ='  ,weights[0])"
   ]
  },
  {
   "cell_type": "code",
   "execution_count": 11,
   "id": "d0a13f0e",
   "metadata": {},
   "outputs": [],
   "source": [
    "LR = LogisticRegression(lr=0.1, n_iters=1000)\n",
    "w,b,l = LR.fit(X_train, y_train)\n",
    "predictions = LR.predict(X_train)"
   ]
  },
  {
   "cell_type": "code",
   "execution_count": 12,
   "id": "0c6c49b2",
   "metadata": {},
   "outputs": [
    {
     "data": {
      "text/plain": [
       "Text(0.5, 1.0, 'Boundary Decision Line')"
      ]
     },
     "execution_count": 12,
     "metadata": {},
     "output_type": "execute_result"
    },
    {
     "data": {
      "image/png": "[encoded data removed]",
      "text/plain": [
       "<Figure size 432x288 with 1 Axes>"
      ]
     },
     "metadata": {
      "needs_background": "light"
     },
     "output_type": "display_data"
    }
   ],
   "source": [
    "line = (-1 * b / w[1]) + ((-1 * w[0]/w[1]) * df['x1'])\n",
    "\n",
    "sns.lineplot(x='x1', y=line, label='Boundary decision line', color='black',data=df)\n",
    "sns.scatterplot(x='x1',y='x2',data=df,hue='y')\n",
    "\n",
    "plt.xlabel(\"x1\")\n",
    "plt.ylabel(\"x2\")\n",
    "plt.title(\"Boundary Decision Line\")"
   ]
  },
  {
   "cell_type": "markdown",
   "id": "04dba6ba",
   "metadata": {},
   "source": [
    "# TRAIN RESULT"
   ]
  },
  {
   "cell_type": "code",
   "execution_count": 13,
   "id": "ba128525",
   "metadata": {},
   "outputs": [
    {
     "name": "stdout",
     "output_type": "stream",
     "text": [
      "1.0\n"
     ]
    }
   ],
   "source": [
    "from sklearn.metrics import accuracy_score\n",
    "print(accuracy_score(y_train,predictions))"
   ]
  },
  {
   "cell_type": "code",
   "execution_count": 14,
   "id": "ecd0e97d",
   "metadata": {},
   "outputs": [
    {
     "name": "stdout",
     "output_type": "stream",
     "text": [
      "              precision    recall  f1-score   support\n",
      "\n",
      "           0       1.00      1.00      1.00         4\n",
      "           1       1.00      1.00      1.00         4\n",
      "\n",
      "    accuracy                           1.00         8\n",
      "   macro avg       1.00      1.00      1.00         8\n",
      "weighted avg       1.00      1.00      1.00         8\n",
      "\n"
     ]
    }
   ],
   "source": [
    "from sklearn.metrics import classification_report\n",
    "print(classification_report(y_train,predictions))"
   ]
  },
  {
   "cell_type": "code",
   "execution_count": 15,
   "id": "465fbcc0",
   "metadata": {},
   "outputs": [
    {
     "name": "stdout",
     "output_type": "stream",
     "text": [
      "     x1    x2  y  0\n",
      "0  0.08  0.72  1  1\n",
      "1  0.26  0.58  1  1\n",
      "2  0.45  0.15  1  1\n",
      "3  0.60  0.30  1  1\n",
      "4  0.10  1.00  0  0\n",
      "5  0.35  0.95  0  0\n",
      "6  0.70  0.65  0  0\n",
      "7  0.92  0.45  0  0\n"
     ]
    }
   ],
   "source": [
    "df1 = pd.concat([df,pd.DataFrame(predictions)], axis=1, join='inner')\n",
    "print(df1)"
   ]
  },
  {
   "cell_type": "markdown",
   "id": "6bf56d17",
   "metadata": {},
   "source": [
    "# TEST DATA"
   ]
  },
  {
   "cell_type": "code",
   "execution_count": 16,
   "id": "4679c7a9",
   "metadata": {},
   "outputs": [],
   "source": [
    "Test_pred = LR.predict((X_test - X_test.mean()) / X_test.std())"
   ]
  },
  {
   "cell_type": "code",
   "execution_count": 18,
   "id": "25fddab9",
   "metadata": {},
   "outputs": [
    {
     "name": "stdout",
     "output_type": "stream",
     "text": [
      "    x1   x2  y\n",
      "0  0.1  0.9  0\n",
      "1  0.4  0.2  1\n",
      "2  0.8  0.5  0\n",
      "3  0.2  0.6  1\n"
     ]
    }
   ],
   "source": [
    "Final = pd.concat([pd.DataFrame(X_test,columns=['x1','x2']),pd.DataFrame(Test_pred,columns=['y'])], axis=1, join='inner')\n",
    "print(Final)"
   ]
  },
  {
   "cell_type": "code",
   "execution_count": 19,
   "id": "bd47fa20",
   "metadata": {},
   "outputs": [
    {
     "data": {
      "text/plain": [
       "Text(0.5, 1.0, 'Boundary Decision Line (Train)')"
      ]
     },
     "execution_count": 19,
     "metadata": {},
     "output_type": "execute_result"
    },
    {
     "data": {
      "image/png": "[encoded data removed]",
      "text/plain": [
       "<Figure size 432x288 with 1 Axes>"
      ]
     },
     "metadata": {
      "needs_background": "light"
     },
     "output_type": "display_data"
    }
   ],
   "source": [
    "line = (-1 * b / w[1]) + ((-1 * w[0]/w[1]) * Final['x1'])\n",
    "\n",
    "sns.lineplot(x='x1', y=line, label='Boundary decision line', color='black',data=Final)\n",
    "sns.scatterplot(x='x1',y='x2',data=Final,hue='y')\n",
    "\n",
    "plt.xlabel(\"x1\")\n",
    "plt.ylabel(\"x2\")\n",
    "plt.title(\"Boundary Decision Line (Train)\")"
   ]
  },
  {
   "cell_type": "code",
   "execution_count": null,
   "id": "b1c8d521",
   "metadata": {},
   "outputs": [],
   "source": []
  },
  {
   "cell_type": "code",
   "execution_count": null,
   "id": "6fff75f8",
   "metadata": {},
   "outputs": [],
   "source": []
  }
 ],
 "metadata": {
  "kernelspec": {
   "display_name": "Python 3 (ipykernel)",
   "language": "python",
   "name": "python3"
  },
  "language_info": {
   "codemirror_mode": {
    "name": "ipython",
    "version": 3
   },
   "file_extension": ".py",
   "mimetype": "text/x-python",
   "name": "python",
   "nbconvert_exporter": "python",
   "pygments_lexer": "ipython3",
   "version": "3.9.7"
  }
 },
 "nbformat": 4,
 "nbformat_minor": 5
}
